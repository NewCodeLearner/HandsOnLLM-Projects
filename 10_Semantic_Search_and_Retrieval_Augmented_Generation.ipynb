{
  "nbformat": 4,
  "nbformat_minor": 0,
  "metadata": {
    "colab": {
      "provenance": [],
      "authorship_tag": "ABX9TyP1FjI5mHDc6HOoP5Wk3y8c",
      "include_colab_link": true
    },
    "kernelspec": {
      "name": "python3",
      "display_name": "Python 3"
    },
    "language_info": {
      "name": "python"
    }
  },
  "cells": [
    {
      "cell_type": "markdown",
      "metadata": {
        "id": "view-in-github",
        "colab_type": "text"
      },
      "source": [
        "<a href=\"https://colab.research.google.com/github/NewCodeLearner/HandsOnLLM-Projects/blob/main/10_Semantic_Search_and_Retrieval_Augmented_Generation.ipynb\" target=\"_parent\"><img src=\"https://colab.research.google.com/assets/colab-badge.svg\" alt=\"Open In Colab\"/></a>"
      ]
    },
    {
      "cell_type": "markdown",
      "source": [
        "In this Chapter, we will learn about Dense Retrieval\n",
        "\n",
        "In particular, we learn about the following:\n",
        "\n",
        "(1) What is Dense Retrieval?   \n",
        "(2) Embeddings and embedding models  \n",
        "(3) Chunking and it’s importance  \n",
        "(4) Code a dense retrieval system\n"
      ],
      "metadata": {
        "id": "1pGywIaSlGPM"
      }
    },
    {
      "cell_type": "markdown",
      "source": [
        "## Installing packages on google colab"
      ],
      "metadata": {
        "id": "aCwnLiBolhut"
      }
    },
    {
      "cell_type": "code",
      "execution_count": null,
      "metadata": {
        "id": "Gk0IqNMAYTHI"
      },
      "outputs": [],
      "source": [
        " %%capture\n",
        " !pip install langchain==0.2.5 faiss-gpu==1.7.2 cohere==5.5.8 langchain-community==0.2.5 rank_bm25==0.2.2 sentence-transformers==3.0.1\n",
        " !CMAKE_ARGS=\"-DLLAMA_CUDA=on\" pip install llama-cpp-python==0.2.78"
      ]
    },
    {
      "cell_type": "markdown",
      "source": [
        "## Get the API Keys"
      ],
      "metadata": {
        "id": "-c5sfqEJl8jk"
      }
    },
    {
      "cell_type": "code",
      "source": [
        "import os\n",
        "from google.colab import userdata\n",
        "\n",
        "COHERE_API_KEY=userdata.get('COHERE_API_KEY')\n",
        "\n",
        "os.environ[\"COHERE_API_KEY\"] = COHERE_API_KEY # Setting the COHERE_API_KEY key as an environment variable"
      ],
      "metadata": {
        "id": "V6cgoRujl_ug"
      },
      "execution_count": null,
      "outputs": []
    },
    {
      "cell_type": "markdown",
      "source": [
        "# Dense Retrieval Example"
      ],
      "metadata": {
        "id": "NyEQ8h2dlpcS"
      }
    },
    {
      "cell_type": "markdown",
      "source": [
        "## 1. Getting the text archive and chunking it"
      ],
      "metadata": {
        "id": "tIHTzGfYlt1g"
      }
    },
    {
      "cell_type": "code",
      "source": [],
      "metadata": {
        "id": "BJAiP546lugy"
      },
      "execution_count": null,
      "outputs": []
    }
  ]
}