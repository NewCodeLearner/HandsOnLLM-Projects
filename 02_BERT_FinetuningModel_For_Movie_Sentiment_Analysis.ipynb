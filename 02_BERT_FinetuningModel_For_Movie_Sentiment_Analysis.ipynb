{
  "nbformat": 4,
  "nbformat_minor": 0,
  "metadata": {
    "colab": {
      "provenance": [],
      "authorship_tag": "ABX9TyMUwBmMOOCDSUY70Vw0H65j",
      "include_colab_link": true
    },
    "kernelspec": {
      "name": "python3",
      "display_name": "Python 3"
    },
    "language_info": {
      "name": "python"
    }
  },
  "cells": [
    {
      "cell_type": "markdown",
      "metadata": {
        "id": "view-in-github",
        "colab_type": "text"
      },
      "source": [
        "<a href=\"https://colab.research.google.com/github/NewCodeLearner/HandsOnLLM-Projects/blob/main/02_BERT_FinetuningModel_For_Movie_Sentiment_Analysis.ipynb\" target=\"_parent\"><img src=\"https://colab.research.google.com/assets/colab-badge.svg\" alt=\"Open In Colab\"/></a>"
      ]
    },
    {
      "cell_type": "markdown",
      "source": [
        "In this lecture, we use a Large Language Representation Model for Movie Reviews Sentiment classification.\n",
        "\n",
        "We use a pre-trained and fine-tuned RoBERTa based NLP model."
      ],
      "metadata": {
        "id": "kH2_7-8wBkUX"
      }
    },
    {
      "cell_type": "code",
      "source": [],
      "metadata": {
        "id": "Oiumhc1_Bnuo"
      },
      "execution_count": null,
      "outputs": []
    }
  ]
}