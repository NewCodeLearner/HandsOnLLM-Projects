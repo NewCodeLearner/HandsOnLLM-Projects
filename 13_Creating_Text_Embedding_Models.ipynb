{
  "nbformat": 4,
  "nbformat_minor": 0,
  "metadata": {
    "colab": {
      "provenance": [],
      "gpuType": "T4",
      "authorship_tag": "ABX9TyOBD2QbuH4uavTv387XCJbB",
      "include_colab_link": true
    },
    "kernelspec": {
      "name": "python3",
      "display_name": "Python 3"
    },
    "language_info": {
      "name": "python"
    },
    "accelerator": "GPU"
  },
  "cells": [
    {
      "cell_type": "markdown",
      "metadata": {
        "id": "view-in-github",
        "colab_type": "text"
      },
      "source": [
        "<a href=\"https://colab.research.google.com/github/NewCodeLearner/HandsOnLLM-Projects/blob/main/13_Creating_Text_Embedding_Models.ipynb\" target=\"_parent\"><img src=\"https://colab.research.google.com/assets/colab-badge.svg\" alt=\"Open In Colab\"/></a>"
      ]
    },
    {
      "cell_type": "markdown",
      "source": [
        "# Creating Text Embedding Model\n",
        "Exploring methods for both training and fine-tuning embedding models."
      ],
      "metadata": {
        "id": "016DLpQ_NPo6"
      }
    },
    {
      "cell_type": "markdown",
      "source": [
        "We will want to use a GPU to run the examples in this notebook. In Google Colab, go to Runtime > Change runtime type > Hardware accelerator > GPU > GPU type > T4."
      ],
      "metadata": {
        "id": "5QxWEbkuNfFi"
      }
    },
    {
      "cell_type": "code",
      "execution_count": 1,
      "metadata": {
        "id": "eW_RxYVkNEbe"
      },
      "outputs": [],
      "source": [
        "%%capture\n",
        "!pip install -q accelerate>=0.27.2 peft>=0.9.0 bitsandbytes>=0.43.0 transformers>=4.38.2 trl>=0.7.11 sentencepiece>=0.1.99\n",
        "!pip install -q sentence-transformers>=3.0.0 mteb>=1.1.2 datasets>=2.18.0"
      ]
    },
    {
      "cell_type": "markdown",
      "source": [
        "# Creating an Embedding Model"
      ],
      "metadata": {
        "id": "OX9-qrk5NoID"
      }
    },
    {
      "cell_type": "markdown",
      "source": [
        "## Data"
      ],
      "metadata": {
        "id": "TiQbTx13NoEg"
      }
    },
    {
      "cell_type": "code",
      "source": [],
      "metadata": {
        "id": "xqze_SwuNq4q"
      },
      "execution_count": null,
      "outputs": []
    }
  ]
}